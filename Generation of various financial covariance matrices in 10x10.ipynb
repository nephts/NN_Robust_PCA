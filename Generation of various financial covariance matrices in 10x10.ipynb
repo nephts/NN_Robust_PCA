{
 "cells": [
  {
   "cell_type": "markdown",
   "metadata": {},
   "source": [
    "<h3>Import of price data of the last 2 years from January 15, 2021, for 10 shares out of Dax 30</h3>\n",
    "\n",
    "<p>The shares of the following 10 DAX 30 companies are considered: Allianz, BASF, Bayer, Beiersdorf, BMW, Continental, Siemens, Merck, Daimler, VW</p>"
   ]
  },
  {
   "cell_type": "code",
   "execution_count": 2,
   "metadata": {},
   "outputs": [],
   "source": [
    "import numpy as np\n",
    "import csv\n",
    "\n",
    "with open('../Stock prices dax 30.csv') as stockprices:\n",
    "    data = list(csv.reader(stockprices, delimiter=\",\"))"
   ]
  },
  {
   "cell_type": "code",
   "execution_count": 3,
   "metadata": {},
   "outputs": [
    {
     "data": {
      "text/plain": [
       "array([['', 'Allianz', 'BASF', ..., 'Merck', 'Daimler', 'VW'],\n",
       "       ['2021-01-15', '202.15', '67.29', ..., '148.9', '56.26', '151.88'],\n",
       "       ['2021-01-14', '203.2', '68.1', ..., '149.7', '57.81', '151.98'],\n",
       "       ...,\n",
       "       ['2019-01-17', '180.24', '63', ..., '90', '48.935', '142.9'],\n",
       "       ['2019-01-16', '180.4', '62.87', ..., '90.6', '49.85', '144.9'],\n",
       "       ['2019-01-15', '179.24', '63', ..., '91.6', '49.44', '145.06']],\n",
       "      dtype='<U11')"
      ]
     },
     "execution_count": 3,
     "metadata": {},
     "output_type": "execute_result"
    }
   ],
   "source": [
    "data_array = np.array(data)\n",
    "data_only = data_array[1:data_array.shape[0],1:11].T\n",
    "data_only = np.array([[float(y) for y in x] for x in data_only])\n",
    "data_array"
   ]
  },
  {
   "cell_type": "markdown",
   "metadata": {},
   "source": [
    "<h3>Calculation of the (empirical) covariance matrices based on the given price data</h3>\n",
    "\n",
    "<p>Covariance matrices of the choosen 10 stocks from DAX 30 based on the price data of the last t (e.g. 35) days. Starting with January 15, 2021, the covariance matrices were determined retrospectively with an offset of one day. In the end we obtain 472 matrices for further numerical tests by this approach.</p>"
   ]
  },
  {
   "cell_type": "code",
   "execution_count": 8,
   "metadata": {},
   "outputs": [
    {
     "data": {
      "text/plain": [
       "(10, 10, 472)"
      ]
     },
     "execution_count": 8,
     "metadata": {},
     "output_type": "execute_result"
    }
   ],
   "source": [
    "t = 35 #length of retrospective observation period\n",
    "\n",
    "Sigma = np.zeros((10,10,data_only.shape[1]-t+1))\n",
    "\n",
    "for l in range(0,data_only.shape[1]-t):\n",
    "\n",
    "    for k in range(l,l+t-1):\n",
    "\n",
    "        Sigma[:,:,l] = Sigma[:,:,l] + np.dot(np.subtract(data_only[:,k], np.mean(data_only[:,l:l+t-1], axis = 1)).reshape((10,1)), np.subtract(data_only[:,k], np.mean(data_only[:,l:l+t-1], axis = 1)).reshape((1,10)))\n",
    "\n",
    "        Sigma[:,:,l] = (1/t-1) * Sigma[:,:,l]\n",
    "        \n",
    "Sigma.shape"
   ]
  },
  {
   "cell_type": "code",
   "execution_count": null,
   "metadata": {},
   "outputs": [],
   "source": []
  }
 ],
 "metadata": {
  "kernelspec": {
   "display_name": "Python 3",
   "language": "python",
   "name": "python3"
  },
  "language_info": {
   "codemirror_mode": {
    "name": "ipython",
    "version": 3
   },
   "file_extension": ".py",
   "mimetype": "text/x-python",
   "name": "python",
   "nbconvert_exporter": "python",
   "pygments_lexer": "ipython3",
   "version": "3.8.3"
  }
 },
 "nbformat": 4,
 "nbformat_minor": 4
}
