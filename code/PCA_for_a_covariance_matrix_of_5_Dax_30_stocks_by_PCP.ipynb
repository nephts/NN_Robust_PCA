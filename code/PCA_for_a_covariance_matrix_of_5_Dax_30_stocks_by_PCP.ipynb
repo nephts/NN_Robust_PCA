{
 "cells": [
  {
   "cell_type": "markdown",
   "metadata": {},
   "source": [
    "<h3>Implementierung von Principal Coponent Pursuit </h3>\n",
    "\n",
    "<p>Den Algorithmus findet ihr hier unter \"https://github.com/dfm/pcp\". Es handelt sich um eine der Methoden zur Berechnung der PCA, welche auch im Paper unter Punkt 5.2 (Comparison) zu finden sind. Hierbei wird die PCA auf ein Minimierungsproblem zurückgeführt, welches mit Hilfe einer Singulärwertzerlegung gelöst wird. Weitere Infos zu diesem Verfahren unter \"http://arxiv.org/abs/0912.3599\".</p>\n",
    "\n"
   ]
  },
  {
   "cell_type": "code",
   "execution_count": 1,
   "metadata": {},
   "outputs": [],
   "source": [
    "\"\"\"\n",
    "An implementation of the Principal Component Pursuit algorithm for robust PCA\n",
    "as described in `Candes, Li, Ma, & Wright <http://arxiv.org/abs/0912.3599>`_.\n",
    "An alternative Python implementation using non-standard dependencies and\n",
    "different hyperparameter choices is available at:\n",
    "http://blog.shriphani.com/2013/12/18/\n",
    "    robust-principal-component-pursuit-background-matrix-recovery/\n",
    "\"\"\"\n",
    "\n",
    "from __future__ import division, print_function\n",
    "\n",
    "__all__ = [\"pcp\"]\n",
    "\n",
    "import time\n",
    "import fbpca\n",
    "import logging\n",
    "import numpy as np\n",
    "from scipy.sparse.linalg import svds\n",
    "\n",
    "\n",
    "def pcp(M, delta=1e-6, mu=None, maxiter=500, verbose=False, missing_data=True,\n",
    "        svd_method=\"approximate\", **svd_args):\n",
    "    # Check the SVD method.\n",
    "    allowed_methods = [\"approximate\", \"exact\", \"sparse\"]\n",
    "    if svd_method not in allowed_methods:\n",
    "        raise ValueError(\"'svd_method' must be one of: {0}\"\n",
    "                         .format(allowed_methods))\n",
    "\n",
    "    # Check for missing data.\n",
    "    shape = M.shape\n",
    "    if missing_data:\n",
    "        missing = ~(np.isfinite(M))\n",
    "        if np.any(missing):\n",
    "            M = np.array(M)\n",
    "            M[missing] = 0.0\n",
    "    else:\n",
    "        missing = np.zeros_like(M, dtype=bool)\n",
    "        if not np.all(np.isfinite(M)):\n",
    "            logging.warn(\"The matrix has non-finite entries. \"\n",
    "                         \"SVD will probably fail.\")\n",
    "\n",
    "    # Initialize the tuning parameters.\n",
    "    lam = 1.0 / np.sqrt(np.max(shape))\n",
    "    if mu is None:\n",
    "        mu = 0.25 * np.prod(shape) / np.sum(np.abs(M))\n",
    "        if verbose:\n",
    "            print(\"mu = {0}\".format(mu))\n",
    "\n",
    "    # Convergence criterion.\n",
    "    norm = np.sum(M ** 2)\n",
    "\n",
    "    # Iterate.\n",
    "    i = 0\n",
    "    rank = np.min(shape)\n",
    "    S = np.zeros(shape)\n",
    "    Y = np.zeros(shape)\n",
    "    while i < max(maxiter, 1):\n",
    "        # SVD step.\n",
    "        strt = time.time()\n",
    "        u, s, v = _svd(svd_method, M - S + Y / mu, rank+1, 1./mu, **svd_args)\n",
    "        svd_time = time.time() - strt\n",
    "\n",
    "        s = shrink(s, 1./mu)\n",
    "        rank = np.sum(s > 0.0)\n",
    "        u, s, v = u[:, :rank], s[:rank], v[:rank, :]\n",
    "        L = np.dot(u, np.dot(np.diag(s), v))\n",
    "\n",
    "        # Shrinkage step.\n",
    "        S = shrink(M - L + Y / mu, lam / mu)\n",
    "\n",
    "        # Lagrange step.\n",
    "        step = M - L - S\n",
    "        step[missing] = 0.0\n",
    "        Y += mu * step\n",
    "\n",
    "        # Check for convergence.\n",
    "        err = np.sqrt(np.sum(step ** 2) / norm)\n",
    "        if verbose:\n",
    "            print((\"Iteration {0}: error={1:.3e}, rank={2:d}, nnz={3:d}, \"\n",
    "                   \"time={4:.3e}\")\n",
    "                  .format(i, err, np.sum(s > 0), np.sum(S > 0), svd_time))\n",
    "        if err < delta:\n",
    "            break\n",
    "        i += 1\n",
    "\n",
    "    if i >= maxiter:\n",
    "        logging.warn(\"convergence not reached in pcp\")\n",
    "    return L, S, (u, s, v)\n",
    "\n",
    "\n",
    "def shrink(M, tau):\n",
    "    sgn = np.sign(M)\n",
    "    S = np.abs(M) - tau\n",
    "    S[S < 0.0] = 0.0\n",
    "    return sgn * S\n",
    "\n",
    "\n",
    "def _svd(method, X, rank, tol, **args):\n",
    "    rank = min(rank, np.min(X.shape))\n",
    "    if method == \"approximate\":\n",
    "        return fbpca.pca(X, k=rank, raw=True, **args)\n",
    "    elif method == \"exact\":\n",
    "        return np.linalg.svd(X, full_matrices=False, **args)\n",
    "    elif method == \"sparse\":\n",
    "        if rank >= np.min(X.shape):\n",
    "            return np.linalg.svd(X, full_matrices=False)\n",
    "        u, s, v = svds(X, k=rank, tol=tol)\n",
    "        u, s, v = u[:, ::-1], s[::-1], v[::-1, :]\n",
    "        return u, s, v\n",
    "    raise ValueError(\"invalid SVD method\")\n",
    "    \n"
   ]
  },
  {
   "cell_type": "markdown",
   "metadata": {},
   "source": [
    "<h3>Import der Kursdaten aus den letzten 6 Monaten zu 5 Aktien aus dem Dax 30 </h3>"
   ]
  },
  {
   "cell_type": "code",
   "execution_count": 2,
   "metadata": {},
   "outputs": [],
   "source": [
    "import numpy as np\n",
    "import csv\n",
    "\n",
    "with open('../Stock prices dax 30.csv') as stockprices:\n",
    "    data = list(csv.reader(stockprices, delimiter=\";\"))"
   ]
  },
  {
   "cell_type": "code",
   "execution_count": 3,
   "metadata": {},
   "outputs": [
    {
     "data": {
      "text/plain": [
       "(5, 128)"
      ]
     },
     "execution_count": 3,
     "metadata": {},
     "output_type": "execute_result"
    }
   ],
   "source": [
    "data_array = np.array(data)\n",
    "data_only = data_array[1:data_array.shape[0],1:6].T\n",
    "data_only = np.array([[float(y) for y in x] for x in data_only])\n",
    "data_only.shape"
   ]
  },
  {
   "cell_type": "markdown",
   "metadata": {},
   "source": [
    "<h3>Berechnung der (empirischen) Kovarianzmatrix basierend auf den gegebene Kursdaten </h3>"
   ]
  },
  {
   "cell_type": "code",
   "execution_count": 4,
   "metadata": {
    "scrolled": true
   },
   "outputs": [
    {
     "data": {
      "text/plain": [
       "array([[142.67041515,  28.06338926,  30.56147946,   2.52487121,\n",
       "         31.18558268],\n",
       "       [ 28.06338926,  14.54671933, -10.75409144,  -2.97700557,\n",
       "         20.0735403 ],\n",
       "       [ 30.56147946, -10.75409144,  65.84451884,  11.30075662,\n",
       "        -28.04105723],\n",
       "       [  2.52487121,  -2.97700557,  11.30075662,  10.38498412,\n",
       "         -5.84017695],\n",
       "       [ 31.18558268,  20.0735403 , -28.04105723,  -5.84017695,\n",
       "         33.39091805]])"
      ]
     },
     "execution_count": 4,
     "metadata": {},
     "output_type": "execute_result"
    }
   ],
   "source": [
    "Sigma = np.zeros((5,5))\n",
    "\n",
    "for k in range(0,data_only.shape[1] - 1):\n",
    "    \n",
    "    Sigma = Sigma + np.dot(np.subtract(data_only[:,k], np.mean(data_only, axis = 1)).reshape((5,1)), np.subtract(data_only[:,k], np.mean(data_only, axis = 1)).reshape((1,5)))\n",
    "\n",
    "Sigma = (1/(data_only.shape[1] - 1)) * Sigma\n",
    "\n",
    "Sigma"
   ]
  },
  {
   "cell_type": "markdown",
   "metadata": {},
   "source": [
    "<h3>Anwendung von PCP zur Durchführung der robusten Hauptkomponentenanalyse (PCA) </h3>"
   ]
  },
  {
   "cell_type": "code",
   "execution_count": 27,
   "metadata": {},
   "outputs": [],
   "source": [
    "L, S = pcp(Sigma)[0:2]"
   ]
  },
  {
   "cell_type": "code",
   "execution_count": 28,
   "metadata": {},
   "outputs": [
    {
     "data": {
      "text/plain": [
       "array([[ 33.15288862,  19.03429426,  -2.38353047,   2.5249416 ,\n",
       "         24.04138395],\n",
       "       [ 19.03429426,  14.54671744, -10.7540876 ,  -2.97707117,\n",
       "         20.07354269],\n",
       "       [ -2.38353047, -10.7540876 ,  24.51612531,  11.30069593,\n",
       "        -17.99311351],\n",
       "       [  2.5249416 ,  -2.97707117,  11.30069593,   5.60790277,\n",
       "         -5.84023382],\n",
       "       [ 24.04138395,  20.07354269, -17.99311351,  -5.84023382,\n",
       "         28.30038404]])"
      ]
     },
     "execution_count": 28,
     "metadata": {},
     "output_type": "execute_result"
    }
   ],
   "source": [
    "L"
   ]
  },
  {
   "cell_type": "code",
   "execution_count": 29,
   "metadata": {},
   "outputs": [
    {
     "data": {
      "text/plain": [
       "array([[109.51752654,   9.029095  ,  32.94500994,   0.        ,\n",
       "          7.14419873],\n",
       "       [  9.029095  ,   0.        ,  -0.        ,  -0.        ,\n",
       "         -0.        ],\n",
       "       [ 32.94500994,  -0.        ,  41.32839353,   0.        ,\n",
       "        -10.04794373],\n",
       "       [  0.        ,  -0.        ,   0.        ,   4.77708135,\n",
       "          0.        ],\n",
       "       [  7.14419873,  -0.        , -10.04794373,   0.        ,\n",
       "          5.09053401]])"
      ]
     },
     "execution_count": 29,
     "metadata": {},
     "output_type": "execute_result"
    }
   ],
   "source": [
    "S"
   ]
  },
  {
   "cell_type": "code",
   "execution_count": 30,
   "metadata": {},
   "outputs": [
    {
     "data": {
      "text/plain": [
       "array([[142.67041515,  28.06338926,  30.56147946,   2.5249416 ,\n",
       "         31.18558268],\n",
       "       [ 28.06338926,  14.54671744, -10.7540876 ,  -2.97707117,\n",
       "         20.07354269],\n",
       "       [ 30.56147946, -10.7540876 ,  65.84451884,  11.30069593,\n",
       "        -28.04105723],\n",
       "       [  2.5249416 ,  -2.97707117,  11.30069593,  10.38498412,\n",
       "         -5.84023382],\n",
       "       [ 31.18558268,  20.07354269, -28.04105723,  -5.84023382,\n",
       "         33.39091805]])"
      ]
     },
     "execution_count": 30,
     "metadata": {},
     "output_type": "execute_result"
    }
   ],
   "source": [
    "L + S"
   ]
  },
  {
   "cell_type": "code",
   "execution_count": 33,
   "metadata": {
    "scrolled": true
   },
   "outputs": [
    {
     "data": {
      "text/plain": [
       "2"
      ]
     },
     "execution_count": 33,
     "metadata": {},
     "output_type": "execute_result"
    }
   ],
   "source": [
    "from numpy.linalg import matrix_rank\n",
    "matrix_rank(L)"
   ]
  },
  {
   "cell_type": "code",
   "execution_count": null,
   "metadata": {},
   "outputs": [],
   "source": []
  }
 ],
 "metadata": {
  "kernelspec": {
   "display_name": "Python 3",
   "language": "python",
   "name": "python3"
  },
  "language_info": {
   "codemirror_mode": {
    "name": "ipython",
    "version": 3
   },
   "file_extension": ".py",
   "mimetype": "text/x-python",
   "name": "python",
   "nbconvert_exporter": "python",
   "pygments_lexer": "ipython3",
   "version": "3.8.0"
  }
 },
 "nbformat": 4,
 "nbformat_minor": 4
}
